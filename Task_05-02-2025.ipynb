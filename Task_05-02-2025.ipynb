{
 "cells": [
  {
   "cell_type": "code",
   "execution_count": 1,
   "id": "e169be8c",
   "metadata": {},
   "outputs": [],
   "source": [
    "#1. Create a 10 variables with your friend names?"
   ]
  },
  {
   "cell_type": "code",
   "execution_count": 2,
   "id": "34038809",
   "metadata": {},
   "outputs": [],
   "source": [
    "name1=\"bujii\""
   ]
  },
  {
   "cell_type": "code",
   "execution_count": 3,
   "id": "c5fffb67",
   "metadata": {},
   "outputs": [
    {
     "name": "stdout",
     "output_type": "stream",
     "text": [
      "bujii\n"
     ]
    }
   ],
   "source": [
    "print(name1)"
   ]
  },
  {
   "cell_type": "code",
   "execution_count": 4,
   "id": "0318d99a",
   "metadata": {},
   "outputs": [],
   "source": [
    "name2=\"mallika\""
   ]
  },
  {
   "cell_type": "code",
   "execution_count": 5,
   "id": "c58bd023",
   "metadata": {},
   "outputs": [
    {
     "name": "stdout",
     "output_type": "stream",
     "text": [
      "mallika\n"
     ]
    }
   ],
   "source": [
    "print(name2)"
   ]
  },
  {
   "cell_type": "code",
   "execution_count": 6,
   "id": "b87bb41a",
   "metadata": {},
   "outputs": [],
   "source": [
    "name3=\"fathima\""
   ]
  },
  {
   "cell_type": "code",
   "execution_count": 7,
   "id": "edee41ab",
   "metadata": {},
   "outputs": [
    {
     "name": "stdout",
     "output_type": "stream",
     "text": [
      "fathima\n"
     ]
    }
   ],
   "source": [
    "print(name3)"
   ]
  },
  {
   "cell_type": "code",
   "execution_count": 8,
   "id": "912b0c02",
   "metadata": {},
   "outputs": [],
   "source": [
    "name4=\"santhosh\""
   ]
  },
  {
   "cell_type": "code",
   "execution_count": 9,
   "id": "b142ee6a",
   "metadata": {},
   "outputs": [
    {
     "name": "stdout",
     "output_type": "stream",
     "text": [
      "santhosh\n"
     ]
    }
   ],
   "source": [
    "print(name4)"
   ]
  },
  {
   "cell_type": "code",
   "execution_count": 10,
   "id": "86bc0699",
   "metadata": {},
   "outputs": [],
   "source": [
    "name5=\"jayasri\""
   ]
  },
  {
   "cell_type": "code",
   "execution_count": 11,
   "id": "ce666706",
   "metadata": {},
   "outputs": [
    {
     "name": "stdout",
     "output_type": "stream",
     "text": [
      "jayasri\n"
     ]
    }
   ],
   "source": [
    "print(name5)"
   ]
  },
  {
   "cell_type": "code",
   "execution_count": 12,
   "id": "62b2e16d",
   "metadata": {},
   "outputs": [],
   "source": [
    "name6=\"durga\""
   ]
  },
  {
   "cell_type": "code",
   "execution_count": 13,
   "id": "f3c80e4a",
   "metadata": {},
   "outputs": [
    {
     "name": "stdout",
     "output_type": "stream",
     "text": [
      "durga\n"
     ]
    }
   ],
   "source": [
    "print(name6)"
   ]
  },
  {
   "cell_type": "code",
   "execution_count": 14,
   "id": "056cbe58",
   "metadata": {},
   "outputs": [],
   "source": [
    "name7=\"rahamatha\""
   ]
  },
  {
   "cell_type": "code",
   "execution_count": 15,
   "id": "2075e680",
   "metadata": {},
   "outputs": [
    {
     "name": "stdout",
     "output_type": "stream",
     "text": [
      "rahamatha\n"
     ]
    }
   ],
   "source": [
    "print(name7)"
   ]
  },
  {
   "cell_type": "code",
   "execution_count": 16,
   "id": "f28e2523",
   "metadata": {},
   "outputs": [],
   "source": [
    "name8=\"anu\""
   ]
  },
  {
   "cell_type": "code",
   "execution_count": 17,
   "id": "434a7bf4",
   "metadata": {},
   "outputs": [
    {
     "name": "stdout",
     "output_type": "stream",
     "text": [
      "anu\n"
     ]
    }
   ],
   "source": [
    "print(name8)"
   ]
  },
  {
   "cell_type": "code",
   "execution_count": 18,
   "id": "e8eef46c",
   "metadata": {},
   "outputs": [],
   "source": [
    "name9=\"jyothi\""
   ]
  },
  {
   "cell_type": "code",
   "execution_count": 19,
   "id": "f52c148a",
   "metadata": {},
   "outputs": [
    {
     "name": "stdout",
     "output_type": "stream",
     "text": [
      "jyothi\n"
     ]
    }
   ],
   "source": [
    "print(name9)"
   ]
  },
  {
   "cell_type": "code",
   "execution_count": 20,
   "id": "38ab2bec",
   "metadata": {},
   "outputs": [],
   "source": [
    "name10=\"tulasi\""
   ]
  },
  {
   "cell_type": "code",
   "execution_count": 21,
   "id": "816705ba",
   "metadata": {},
   "outputs": [
    {
     "name": "stdout",
     "output_type": "stream",
     "text": [
      "tulasi\n"
     ]
    }
   ],
   "source": [
    "print(name10)"
   ]
  },
  {
   "cell_type": "code",
   "execution_count": 22,
   "id": "72b065a5",
   "metadata": {},
   "outputs": [],
   "source": [
    "#2. Create a 10 variables with your family member names?"
   ]
  },
  {
   "cell_type": "code",
   "execution_count": 23,
   "id": "49ab8e64",
   "metadata": {},
   "outputs": [
    {
     "data": {
      "text/plain": [
       "'raju'"
      ]
     },
     "execution_count": 23,
     "metadata": {},
     "output_type": "execute_result"
    }
   ],
   "source": [
    "name1=\"raju\"\n",
    "name1"
   ]
  },
  {
   "cell_type": "code",
   "execution_count": 24,
   "id": "2bb41451",
   "metadata": {},
   "outputs": [
    {
     "data": {
      "text/plain": [
       "'lakshmi'"
      ]
     },
     "execution_count": 24,
     "metadata": {},
     "output_type": "execute_result"
    }
   ],
   "source": [
    "name2=\"lakshmi\"\n",
    "name2"
   ]
  },
  {
   "cell_type": "code",
   "execution_count": 25,
   "id": "1357d413",
   "metadata": {},
   "outputs": [
    {
     "data": {
      "text/plain": [
       "'krishna'"
      ]
     },
     "execution_count": 25,
     "metadata": {},
     "output_type": "execute_result"
    }
   ],
   "source": [
    "name3=\"krishna\"\n",
    "name3"
   ]
  },
  {
   "cell_type": "code",
   "execution_count": 26,
   "id": "70bf0477",
   "metadata": {},
   "outputs": [
    {
     "data": {
      "text/plain": [
       "'ramayya'"
      ]
     },
     "execution_count": 26,
     "metadata": {},
     "output_type": "execute_result"
    }
   ],
   "source": [
    "name4=\"ramayya\"\n",
    "name4"
   ]
  },
  {
   "cell_type": "code",
   "execution_count": 27,
   "id": "87e44661",
   "metadata": {},
   "outputs": [
    {
     "data": {
      "text/plain": [
       "'nagedhramma'"
      ]
     },
     "execution_count": 27,
     "metadata": {},
     "output_type": "execute_result"
    }
   ],
   "source": [
    "name5=\"nagedhramma\"\n",
    "name5"
   ]
  },
  {
   "cell_type": "code",
   "execution_count": 28,
   "id": "7aeb461f",
   "metadata": {},
   "outputs": [
    {
     "data": {
      "text/plain": [
       "'raju'"
      ]
     },
     "execution_count": 28,
     "metadata": {},
     "output_type": "execute_result"
    }
   ],
   "source": [
    "name6=\"raju\"\n",
    "name6"
   ]
  },
  {
   "cell_type": "code",
   "execution_count": 29,
   "id": "af619e56",
   "metadata": {},
   "outputs": [
    {
     "data": {
      "text/plain": [
       "'jyothi'"
      ]
     },
     "execution_count": 29,
     "metadata": {},
     "output_type": "execute_result"
    }
   ],
   "source": [
    "name7=\"jyothi\"\n",
    "name7"
   ]
  },
  {
   "cell_type": "code",
   "execution_count": 30,
   "id": "16791213",
   "metadata": {},
   "outputs": [
    {
     "data": {
      "text/plain": [
       "'lakshamana'"
      ]
     },
     "execution_count": 30,
     "metadata": {},
     "output_type": "execute_result"
    }
   ],
   "source": [
    "name8=\"lakshamana\"\n",
    "name8"
   ]
  },
  {
   "cell_type": "code",
   "execution_count": 31,
   "id": "daa60351",
   "metadata": {},
   "outputs": [
    {
     "data": {
      "text/plain": [
       "'uma'"
      ]
     },
     "execution_count": 31,
     "metadata": {},
     "output_type": "execute_result"
    }
   ],
   "source": [
    "name9=\"uma\"\n",
    "name9"
   ]
  },
  {
   "cell_type": "code",
   "execution_count": 32,
   "id": "46611c3d",
   "metadata": {},
   "outputs": [
    {
     "data": {
      "text/plain": [
       "'poojii'"
      ]
     },
     "execution_count": 32,
     "metadata": {},
     "output_type": "execute_result"
    }
   ],
   "source": [
    "name10=\"poojii\"\n",
    "name10"
   ]
  },
  {
   "cell_type": "code",
   "execution_count": 33,
   "id": "42bd8064",
   "metadata": {},
   "outputs": [],
   "source": [
    "#3. Create a 10 variables with favorite food names?"
   ]
  },
  {
   "cell_type": "code",
   "execution_count": 34,
   "id": "b686b61c",
   "metadata": {},
   "outputs": [
    {
     "data": {
      "text/plain": [
       "'pongal'"
      ]
     },
     "execution_count": 34,
     "metadata": {},
     "output_type": "execute_result"
    }
   ],
   "source": [
    "name1=\"pongal\"\n",
    "name1"
   ]
  },
  {
   "cell_type": "code",
   "execution_count": 35,
   "id": "aabcf8be",
   "metadata": {},
   "outputs": [
    {
     "data": {
      "text/plain": [
       "'pulihora'"
      ]
     },
     "execution_count": 35,
     "metadata": {},
     "output_type": "execute_result"
    }
   ],
   "source": [
    "name2=\"pulihora\"\n",
    "name2"
   ]
  },
  {
   "cell_type": "code",
   "execution_count": 36,
   "id": "44ce3dfb",
   "metadata": {},
   "outputs": [
    {
     "data": {
      "text/plain": [
       "'chakkarapongal'"
      ]
     },
     "execution_count": 36,
     "metadata": {},
     "output_type": "execute_result"
    }
   ],
   "source": [
    "name3=\"chakkarapongal\"\n",
    "name3"
   ]
  },
  {
   "cell_type": "code",
   "execution_count": 37,
   "id": "deeced14",
   "metadata": {},
   "outputs": [
    {
     "data": {
      "text/plain": [
       "'papputomato'"
      ]
     },
     "execution_count": 37,
     "metadata": {},
     "output_type": "execute_result"
    }
   ],
   "source": [
    "name4=\"papputomato\"\n",
    "name4"
   ]
  },
  {
   "cell_type": "code",
   "execution_count": 38,
   "id": "b4cb56eb",
   "metadata": {},
   "outputs": [
    {
     "data": {
      "text/plain": [
       "'pesaradosa'"
      ]
     },
     "execution_count": 38,
     "metadata": {},
     "output_type": "execute_result"
    }
   ],
   "source": [
    "name5=\"pesaradosa\"\n",
    "name5"
   ]
  },
  {
   "cell_type": "code",
   "execution_count": 39,
   "id": "0a010eea",
   "metadata": {},
   "outputs": [
    {
     "data": {
      "text/plain": [
       "'fiderice'"
      ]
     },
     "execution_count": 39,
     "metadata": {},
     "output_type": "execute_result"
    }
   ],
   "source": [
    "name6=\"fiderice\"\n",
    "name6"
   ]
  },
  {
   "cell_type": "code",
   "execution_count": 40,
   "id": "8d9bcead",
   "metadata": {},
   "outputs": [
    {
     "data": {
      "text/plain": [
       "'chickenbiryani'"
      ]
     },
     "execution_count": 40,
     "metadata": {},
     "output_type": "execute_result"
    }
   ],
   "source": [
    "name7=\"chickenbiryani\"\n",
    "name7"
   ]
  },
  {
   "cell_type": "code",
   "execution_count": 41,
   "id": "a1451a12",
   "metadata": {},
   "outputs": [
    {
     "data": {
      "text/plain": [
       "'chickenfry'"
      ]
     },
     "execution_count": 41,
     "metadata": {},
     "output_type": "execute_result"
    }
   ],
   "source": [
    "name8=\"chickenfry\"\n",
    "name8"
   ]
  },
  {
   "cell_type": "code",
   "execution_count": 42,
   "id": "57b660cb",
   "metadata": {},
   "outputs": [
    {
     "data": {
      "text/plain": [
       "'potatochipics'"
      ]
     },
     "execution_count": 42,
     "metadata": {},
     "output_type": "execute_result"
    }
   ],
   "source": [
    "name9=\"potatochipics\"\n",
    "name9"
   ]
  },
  {
   "cell_type": "code",
   "execution_count": 43,
   "id": "fe9300ce",
   "metadata": {},
   "outputs": [
    {
     "data": {
      "text/plain": [
       "'muttonbiryani'"
      ]
     },
     "execution_count": 43,
     "metadata": {},
     "output_type": "execute_result"
    }
   ],
   "source": [
    "name10=\"muttonbiryani\"\n",
    "name10"
   ]
  },
  {
   "cell_type": "code",
   "execution_count": 44,
   "id": "94defad9",
   "metadata": {},
   "outputs": [],
   "source": [
    "#4. Create a 10 variables with colour  names?colour1=\"white\""
   ]
  },
  {
   "cell_type": "code",
   "execution_count": 45,
   "id": "c2051113",
   "metadata": {},
   "outputs": [
    {
     "data": {
      "text/plain": [
       "'white'"
      ]
     },
     "execution_count": 45,
     "metadata": {},
     "output_type": "execute_result"
    }
   ],
   "source": [
    "colour1=\"white\"\n",
    "colour1"
   ]
  },
  {
   "cell_type": "code",
   "execution_count": 46,
   "id": "338fc27b",
   "metadata": {},
   "outputs": [
    {
     "data": {
      "text/plain": [
       "'red'"
      ]
     },
     "execution_count": 46,
     "metadata": {},
     "output_type": "execute_result"
    }
   ],
   "source": [
    "colour2=\"red\"\n",
    "colour2"
   ]
  },
  {
   "cell_type": "code",
   "execution_count": 47,
   "id": "270ecddb",
   "metadata": {},
   "outputs": [
    {
     "data": {
      "text/plain": [
       "'pink'"
      ]
     },
     "execution_count": 47,
     "metadata": {},
     "output_type": "execute_result"
    }
   ],
   "source": [
    "colour3=\"pink\"\n",
    "colour3"
   ]
  },
  {
   "cell_type": "code",
   "execution_count": 48,
   "id": "b553bd9e",
   "metadata": {},
   "outputs": [
    {
     "data": {
      "text/plain": [
       "'blue'"
      ]
     },
     "execution_count": 48,
     "metadata": {},
     "output_type": "execute_result"
    }
   ],
   "source": [
    "colour4=\"blue\"\n",
    "colour4"
   ]
  },
  {
   "cell_type": "code",
   "execution_count": 49,
   "id": "ab01a67b",
   "metadata": {},
   "outputs": [
    {
     "data": {
      "text/plain": [
       "'green'"
      ]
     },
     "execution_count": 49,
     "metadata": {},
     "output_type": "execute_result"
    }
   ],
   "source": [
    "colour5=\"green\"\n",
    "colour5"
   ]
  },
  {
   "cell_type": "code",
   "execution_count": 50,
   "id": "799d15fc",
   "metadata": {},
   "outputs": [
    {
     "data": {
      "text/plain": [
       "'orange'"
      ]
     },
     "execution_count": 50,
     "metadata": {},
     "output_type": "execute_result"
    }
   ],
   "source": [
    "colour6=\"orange\"\n",
    "colour6"
   ]
  },
  {
   "cell_type": "code",
   "execution_count": 51,
   "id": "b8fcb0b5",
   "metadata": {},
   "outputs": [
    {
     "data": {
      "text/plain": [
       "'black'"
      ]
     },
     "execution_count": 51,
     "metadata": {},
     "output_type": "execute_result"
    }
   ],
   "source": [
    "colour7=\"black\"\n",
    "colour7"
   ]
  },
  {
   "cell_type": "code",
   "execution_count": 52,
   "id": "23c5c0fa",
   "metadata": {},
   "outputs": [
    {
     "data": {
      "text/plain": [
       "'brown'"
      ]
     },
     "execution_count": 52,
     "metadata": {},
     "output_type": "execute_result"
    }
   ],
   "source": [
    "colour8=\"brown\"\n",
    "colour8"
   ]
  },
  {
   "cell_type": "code",
   "execution_count": 53,
   "id": "4824b141",
   "metadata": {},
   "outputs": [
    {
     "data": {
      "text/plain": [
       "'grey'"
      ]
     },
     "execution_count": 53,
     "metadata": {},
     "output_type": "execute_result"
    }
   ],
   "source": [
    "colour9=\"grey\"\n",
    "colour9"
   ]
  },
  {
   "cell_type": "code",
   "execution_count": 54,
   "id": "a5b333be",
   "metadata": {},
   "outputs": [
    {
     "data": {
      "text/plain": [
       "'yellow'"
      ]
     },
     "execution_count": 54,
     "metadata": {},
     "output_type": "execute_result"
    }
   ],
   "source": [
    "colour10=\"yellow\"\n",
    "colour10"
   ]
  },
  {
   "cell_type": "code",
   "execution_count": 55,
   "id": "e37eb034",
   "metadata": {},
   "outputs": [],
   "source": [
    "#5. Create a 12 variables with month  names?"
   ]
  },
  {
   "cell_type": "code",
   "execution_count": 56,
   "id": "f99ef901",
   "metadata": {},
   "outputs": [
    {
     "data": {
      "text/plain": [
       "'january'"
      ]
     },
     "execution_count": 56,
     "metadata": {},
     "output_type": "execute_result"
    }
   ],
   "source": [
    "name1=\"january\"\n",
    "name1"
   ]
  },
  {
   "cell_type": "code",
   "execution_count": 57,
   "id": "5bad4cfb",
   "metadata": {},
   "outputs": [
    {
     "data": {
      "text/plain": [
       "'february'"
      ]
     },
     "execution_count": 57,
     "metadata": {},
     "output_type": "execute_result"
    }
   ],
   "source": [
    "name2=\"february\"\n",
    "name2"
   ]
  },
  {
   "cell_type": "code",
   "execution_count": 58,
   "id": "594bfd83",
   "metadata": {},
   "outputs": [
    {
     "data": {
      "text/plain": [
       "'march'"
      ]
     },
     "execution_count": 58,
     "metadata": {},
     "output_type": "execute_result"
    }
   ],
   "source": [
    "name3=\"march\"\n",
    "name3"
   ]
  },
  {
   "cell_type": "code",
   "execution_count": 59,
   "id": "da3aae10",
   "metadata": {},
   "outputs": [
    {
     "data": {
      "text/plain": [
       "'april'"
      ]
     },
     "execution_count": 59,
     "metadata": {},
     "output_type": "execute_result"
    }
   ],
   "source": [
    "name4=\"april\"\n",
    "name4"
   ]
  },
  {
   "cell_type": "code",
   "execution_count": 60,
   "id": "e09b38c2",
   "metadata": {},
   "outputs": [
    {
     "data": {
      "text/plain": [
       "'may'"
      ]
     },
     "execution_count": 60,
     "metadata": {},
     "output_type": "execute_result"
    }
   ],
   "source": [
    "name5=\"may\"\n",
    "name5"
   ]
  },
  {
   "cell_type": "code",
   "execution_count": 61,
   "id": "0c7aab5c",
   "metadata": {},
   "outputs": [
    {
     "data": {
      "text/plain": [
       "'june'"
      ]
     },
     "execution_count": 61,
     "metadata": {},
     "output_type": "execute_result"
    }
   ],
   "source": [
    "name6=\"june\"\n",
    "name6"
   ]
  },
  {
   "cell_type": "code",
   "execution_count": 62,
   "id": "f10b8c98",
   "metadata": {},
   "outputs": [
    {
     "data": {
      "text/plain": [
       "'july'"
      ]
     },
     "execution_count": 62,
     "metadata": {},
     "output_type": "execute_result"
    }
   ],
   "source": [
    "name7=\"july\"\n",
    "name7"
   ]
  },
  {
   "cell_type": "code",
   "execution_count": 63,
   "id": "1bceb191",
   "metadata": {},
   "outputs": [
    {
     "data": {
      "text/plain": [
       "'august'"
      ]
     },
     "execution_count": 63,
     "metadata": {},
     "output_type": "execute_result"
    }
   ],
   "source": [
    "name8=\"august\"\n",
    "name8"
   ]
  },
  {
   "cell_type": "code",
   "execution_count": 64,
   "id": "56ddc418",
   "metadata": {},
   "outputs": [
    {
     "data": {
      "text/plain": [
       "'septomber'"
      ]
     },
     "execution_count": 64,
     "metadata": {},
     "output_type": "execute_result"
    }
   ],
   "source": [
    "name9=\"septomber\"\n",
    "name9"
   ]
  },
  {
   "cell_type": "code",
   "execution_count": 65,
   "id": "8342f885",
   "metadata": {},
   "outputs": [
    {
     "data": {
      "text/plain": [
       "'october'"
      ]
     },
     "execution_count": 65,
     "metadata": {},
     "output_type": "execute_result"
    }
   ],
   "source": [
    "name10=\"october\"\n",
    "name10"
   ]
  },
  {
   "cell_type": "code",
   "execution_count": 66,
   "id": "3cc725a3",
   "metadata": {},
   "outputs": [
    {
     "data": {
      "text/plain": [
       "'november'"
      ]
     },
     "execution_count": 66,
     "metadata": {},
     "output_type": "execute_result"
    }
   ],
   "source": [
    "name11=\"november\"\n",
    "name11"
   ]
  },
  {
   "cell_type": "code",
   "execution_count": 67,
   "id": "2f33677e",
   "metadata": {},
   "outputs": [
    {
     "data": {
      "text/plain": [
       "'december'"
      ]
     },
     "execution_count": 67,
     "metadata": {},
     "output_type": "execute_result"
    }
   ],
   "source": [
    "name12=\"december\"\n",
    "name12"
   ]
  },
  {
   "cell_type": "code",
   "execution_count": 68,
   "id": "d92c8484",
   "metadata": {},
   "outputs": [],
   "source": [
    "#6. Create a 10 variables with game names?"
   ]
  },
  {
   "cell_type": "code",
   "execution_count": 69,
   "id": "c58e099e",
   "metadata": {},
   "outputs": [
    {
     "data": {
      "text/plain": [
       "'cricket'"
      ]
     },
     "execution_count": 69,
     "metadata": {},
     "output_type": "execute_result"
    }
   ],
   "source": [
    "name1=\"cricket\"\n",
    "name1"
   ]
  },
  {
   "cell_type": "code",
   "execution_count": 70,
   "id": "fcc43d92",
   "metadata": {},
   "outputs": [
    {
     "data": {
      "text/plain": [
       "'kabaddi'"
      ]
     },
     "execution_count": 70,
     "metadata": {},
     "output_type": "execute_result"
    }
   ],
   "source": [
    "name2=\"kabaddi\"\n",
    "name2"
   ]
  },
  {
   "cell_type": "code",
   "execution_count": 71,
   "id": "ee26c44a",
   "metadata": {},
   "outputs": [
    {
     "data": {
      "text/plain": [
       "'hockey'"
      ]
     },
     "execution_count": 71,
     "metadata": {},
     "output_type": "execute_result"
    }
   ],
   "source": [
    "name3=\"hockey\"\n",
    "name3"
   ]
  },
  {
   "cell_type": "code",
   "execution_count": 72,
   "id": "475b98b7",
   "metadata": {},
   "outputs": [
    {
     "data": {
      "text/plain": [
       "'chess'"
      ]
     },
     "execution_count": 72,
     "metadata": {},
     "output_type": "execute_result"
    }
   ],
   "source": [
    "name4=\"chess\"\n",
    "name4"
   ]
  },
  {
   "cell_type": "code",
   "execution_count": 73,
   "id": "e338751f",
   "metadata": {},
   "outputs": [
    {
     "data": {
      "text/plain": [
       "'football'"
      ]
     },
     "execution_count": 73,
     "metadata": {},
     "output_type": "execute_result"
    }
   ],
   "source": [
    "name5=\"football\"\n",
    "name5"
   ]
  },
  {
   "cell_type": "code",
   "execution_count": 74,
   "id": "b64d7f43",
   "metadata": {},
   "outputs": [
    {
     "data": {
      "text/plain": [
       "'ragbi'"
      ]
     },
     "execution_count": 74,
     "metadata": {},
     "output_type": "execute_result"
    }
   ],
   "source": [
    "name6=\"ragbi\"\n",
    "name6"
   ]
  },
  {
   "cell_type": "code",
   "execution_count": 75,
   "id": "88bc6114",
   "metadata": {},
   "outputs": [
    {
     "data": {
      "text/plain": [
       "'tennis'"
      ]
     },
     "execution_count": 75,
     "metadata": {},
     "output_type": "execute_result"
    }
   ],
   "source": [
    "name7=\"tennis\"\n",
    "name7"
   ]
  },
  {
   "cell_type": "code",
   "execution_count": 76,
   "id": "99495181",
   "metadata": {},
   "outputs": [
    {
     "data": {
      "text/plain": [
       "'coco'"
      ]
     },
     "execution_count": 76,
     "metadata": {},
     "output_type": "execute_result"
    }
   ],
   "source": [
    "name8=\"coco\"\n",
    "name8"
   ]
  },
  {
   "cell_type": "code",
   "execution_count": 77,
   "id": "694a4377",
   "metadata": {},
   "outputs": [
    {
     "data": {
      "text/plain": [
       "'loodo'"
      ]
     },
     "execution_count": 77,
     "metadata": {},
     "output_type": "execute_result"
    }
   ],
   "source": [
    "name9=\"loodo\"\n",
    "name9"
   ]
  },
  {
   "cell_type": "code",
   "execution_count": 78,
   "id": "19c4a383",
   "metadata": {},
   "outputs": [
    {
     "data": {
      "text/plain": [
       "'vallyball'"
      ]
     },
     "execution_count": 78,
     "metadata": {},
     "output_type": "execute_result"
    }
   ],
   "source": [
    "name10=\"vallyball\"\n",
    "name10"
   ]
  },
  {
   "cell_type": "code",
   "execution_count": 79,
   "id": "f7e0fc62",
   "metadata": {},
   "outputs": [],
   "source": [
    "#7. Create a 10 variables with city  names?"
   ]
  },
  {
   "cell_type": "code",
   "execution_count": 80,
   "id": "9a4b9249",
   "metadata": {},
   "outputs": [
    {
     "data": {
      "text/plain": [
       "'vijayawada'"
      ]
     },
     "execution_count": 80,
     "metadata": {},
     "output_type": "execute_result"
    }
   ],
   "source": [
    "name1=\"vijayawada\"\n",
    "name1"
   ]
  },
  {
   "cell_type": "code",
   "execution_count": 81,
   "id": "365b0570",
   "metadata": {},
   "outputs": [
    {
     "data": {
      "text/plain": [
       "'hyderabad'"
      ]
     },
     "execution_count": 81,
     "metadata": {},
     "output_type": "execute_result"
    }
   ],
   "source": [
    "name2=\"hyderabad\"\n",
    "name2"
   ]
  },
  {
   "cell_type": "code",
   "execution_count": 82,
   "id": "f9d6301d",
   "metadata": {},
   "outputs": [
    {
     "data": {
      "text/plain": [
       "'chennai'"
      ]
     },
     "execution_count": 82,
     "metadata": {},
     "output_type": "execute_result"
    }
   ],
   "source": [
    "name3=\"chennai\"\n",
    "name3"
   ]
  },
  {
   "cell_type": "code",
   "execution_count": 83,
   "id": "aaa7047a",
   "metadata": {},
   "outputs": [
    {
     "data": {
      "text/plain": [
       "'bangalore'"
      ]
     },
     "execution_count": 83,
     "metadata": {},
     "output_type": "execute_result"
    }
   ],
   "source": [
    "name4=\"bangalore\"\n",
    "name4"
   ]
  },
  {
   "cell_type": "code",
   "execution_count": 84,
   "id": "6a591203",
   "metadata": {},
   "outputs": [
    {
     "data": {
      "text/plain": [
       "'mubbai'"
      ]
     },
     "execution_count": 84,
     "metadata": {},
     "output_type": "execute_result"
    }
   ],
   "source": [
    "name5=\"mubbai\"\n",
    "name5"
   ]
  },
  {
   "cell_type": "code",
   "execution_count": 85,
   "id": "7ce3370e",
   "metadata": {},
   "outputs": [
    {
     "data": {
      "text/plain": [
       "'goa'"
      ]
     },
     "execution_count": 85,
     "metadata": {},
     "output_type": "execute_result"
    }
   ],
   "source": [
    "name6=\"goa\"\n",
    "name6"
   ]
  },
  {
   "cell_type": "code",
   "execution_count": 86,
   "id": "4c0b1c10",
   "metadata": {},
   "outputs": [
    {
     "data": {
      "text/plain": [
       "'pune'"
      ]
     },
     "execution_count": 86,
     "metadata": {},
     "output_type": "execute_result"
    }
   ],
   "source": [
    "name7=\"pune\"\n",
    "name7"
   ]
  },
  {
   "cell_type": "code",
   "execution_count": 87,
   "id": "d60eb397",
   "metadata": {},
   "outputs": [
    {
     "data": {
      "text/plain": [
       "'buvanesware'"
      ]
     },
     "execution_count": 87,
     "metadata": {},
     "output_type": "execute_result"
    }
   ],
   "source": [
    "name8=\"buvanesware\"\n",
    "name8"
   ]
  },
  {
   "cell_type": "code",
   "execution_count": 88,
   "id": "0273b467",
   "metadata": {},
   "outputs": [
    {
     "data": {
      "text/plain": [
       "'jyipuru'"
      ]
     },
     "execution_count": 88,
     "metadata": {},
     "output_type": "execute_result"
    }
   ],
   "source": [
    "name9=\"jyipuru\"\n",
    "name9"
   ]
  },
  {
   "cell_type": "code",
   "execution_count": 89,
   "id": "fa979cee",
   "metadata": {},
   "outputs": [
    {
     "data": {
      "text/plain": [
       "'boopal'"
      ]
     },
     "execution_count": 89,
     "metadata": {},
     "output_type": "execute_result"
    }
   ],
   "source": [
    "name10=\"boopal\"\n",
    "name10"
   ]
  },
  {
   "cell_type": "code",
   "execution_count": 90,
   "id": "0247cb75",
   "metadata": {},
   "outputs": [],
   "source": [
    "#8. Createfr a list (friend_names) with your friend names (10 names)?"
   ]
  },
  {
   "cell_type": "code",
   "execution_count": 91,
   "id": "ae37cb6e",
   "metadata": {},
   "outputs": [],
   "source": [
    "list=[\"anitha\",\"vanaja\",\"prasanna\",\"sivadevi\",\"vanitha\",\"anusha\",\"poojitha\",\"sruthi\",\"mamaatha\",\"manasa\"]"
   ]
  },
  {
   "cell_type": "code",
   "execution_count": 92,
   "id": "ad14f9f7",
   "metadata": {},
   "outputs": [
    {
     "name": "stdout",
     "output_type": "stream",
     "text": [
      "['anitha', 'vanaja', 'prasanna', 'sivadevi', 'vanitha', 'anusha', 'poojitha', 'sruthi', 'mamaatha', 'manasa']\n"
     ]
    }
   ],
   "source": [
    "print(list)"
   ]
  },
  {
   "cell_type": "code",
   "execution_count": 93,
   "id": "cb28ca94",
   "metadata": {},
   "outputs": [],
   "source": [
    "#9. Create a tuple (family_members) with your family members?"
   ]
  },
  {
   "cell_type": "code",
   "execution_count": 94,
   "id": "3a6ea3d6",
   "metadata": {},
   "outputs": [],
   "source": [
    "tuple=(\"venkataraju\",\"dhanalakshmi\",\"gopalakrishna\",\"dasaradharamayya\",\"nagedhramma\",\"bhogiraju\",\"nagajyothi\",\"lakshamana\",\"umadevi\",\"poojitha\")"
   ]
  },
  {
   "cell_type": "code",
   "execution_count": 95,
   "id": "1955a3f8",
   "metadata": {},
   "outputs": [
    {
     "name": "stdout",
     "output_type": "stream",
     "text": [
      "('venkataraju', 'dhanalakshmi', 'gopalakrishna', 'dasaradharamayya', 'nagedhramma', 'bhogiraju', 'nagajyothi', 'lakshamana', 'umadevi', 'poojitha')\n"
     ]
    }
   ],
   "source": [
    "print(tuple)"
   ]
  },
  {
   "cell_type": "code",
   "execution_count": 96,
   "id": "479ad54f",
   "metadata": {},
   "outputs": [],
   "source": [
    "#10. Create a set (colours) with colour names(10 names)?"
   ]
  },
  {
   "cell_type": "code",
   "execution_count": 97,
   "id": "8720a38f",
   "metadata": {},
   "outputs": [],
   "source": [
    "set={\"white\",\"yellow\",\"black\",\"red\",\"orange\",\"brown\",\"blue\",\"pink\",\"green\",\"grey\"}"
   ]
  },
  {
   "cell_type": "code",
   "execution_count": 98,
   "id": "d194880d",
   "metadata": {},
   "outputs": [
    {
     "name": "stdout",
     "output_type": "stream",
     "text": [
      "{'orange', 'blue', 'green', 'black', 'white', 'brown', 'grey', 'yellow', 'pink', 'red'}\n"
     ]
    }
   ],
   "source": [
    "print(set)"
   ]
  },
  {
   "cell_type": "code",
   "execution_count": 99,
   "id": "ed686d86",
   "metadata": {},
   "outputs": [],
   "source": [
    "#11. month_names=[1,9,10,5,3,2,7,8,6,4] , sort the list--> write a program?"
   ]
  },
  {
   "cell_type": "code",
   "execution_count": 100,
   "id": "9be0f3a7",
   "metadata": {},
   "outputs": [],
   "source": [
    "month_names={1,9,10,5,3,2,7,8,6,4}"
   ]
  },
  {
   "cell_type": "code",
   "execution_count": 101,
   "id": "947e09be",
   "metadata": {},
   "outputs": [
    {
     "name": "stdout",
     "output_type": "stream",
     "text": [
      "{1, 2, 3, 4, 5, 6, 7, 8, 9, 10}\n"
     ]
    }
   ],
   "source": [
    "print(month_names)"
   ]
  },
  {
   "cell_type": "code",
   "execution_count": 102,
   "id": "d8d9a985",
   "metadata": {},
   "outputs": [],
   "source": [
    "# 12. tollywood_heros=[\"chiru\", \"balaya\", \"nag\",\"venky\",\"powerstar\",\"superstar\",\"ntr\",\"ramcharan\"], write a program?ros\n",
    "# expected output:tollywood_heros=[\"chiranjeevi\", \"balakrishan\", \"nagarjuna\",\"venky\",\"pawan kalyan\",\"maheshbabu\",\"NT rama rao\",\"ramcharan\"]"
   ]
  },
  {
   "cell_type": "code",
   "execution_count": 103,
   "id": "7589e3e3",
   "metadata": {},
   "outputs": [],
   "source": [
    "chiru=\"chiranjeevi\""
   ]
  },
  {
   "cell_type": "code",
   "execution_count": 104,
   "id": "9873eee9",
   "metadata": {},
   "outputs": [],
   "source": [
    "balaya=\"balakrishna\""
   ]
  },
  {
   "cell_type": "code",
   "execution_count": 105,
   "id": "abd1ba28",
   "metadata": {},
   "outputs": [],
   "source": [
    "nag=\"nagarjuna\""
   ]
  },
  {
   "cell_type": "code",
   "execution_count": 106,
   "id": "24a79f3a",
   "metadata": {},
   "outputs": [],
   "source": [
    "venky=\"venkatesh\""
   ]
  },
  {
   "cell_type": "code",
   "execution_count": 107,
   "id": "12c28777",
   "metadata": {},
   "outputs": [],
   "source": [
    "powerstar=\"pawnkalyan\""
   ]
  },
  {
   "cell_type": "code",
   "execution_count": 108,
   "id": "1388aa37",
   "metadata": {},
   "outputs": [],
   "source": [
    "superstar=\"maheshbabu\""
   ]
  },
  {
   "cell_type": "code",
   "execution_count": 109,
   "id": "dad7bc30",
   "metadata": {},
   "outputs": [],
   "source": [
    "ntr=\"nt rama rao\""
   ]
  },
  {
   "cell_type": "code",
   "execution_count": 110,
   "id": "2a0292da",
   "metadata": {},
   "outputs": [],
   "source": [
    "ramcharan=\"ramcharan\""
   ]
  },
  {
   "cell_type": "code",
   "execution_count": 111,
   "id": "f8773e8e",
   "metadata": {},
   "outputs": [
    {
     "data": {
      "text/plain": [
       "('chiranjeevi',\n",
       " 'balakrishna',\n",
       " 'nagarjuna',\n",
       " 'venkatesh',\n",
       " 'pawnkalyan',\n",
       " 'maheshbabu',\n",
       " 'nt rama rao',\n",
       " 'ramcharan')"
      ]
     },
     "execution_count": 111,
     "metadata": {},
     "output_type": "execute_result"
    }
   ],
   "source": [
    "tollywood_heros=chiru,balaya,nag,venky,powerstar,superstar,ntr,ramcharan\n",
    "tollywood_heros"
   ]
  },
  {
   "cell_type": "code",
   "execution_count": 112,
   "id": "0ccb4354",
   "metadata": {},
   "outputs": [],
   "source": [
    "# 13. bollywood_heros=[\"sharukkhan\", \"salmankhan\", \"salmankhan\",\"amirkhan\",\"HrithikRoshan\",\"Amitabh Bachchan\",\"Akshay Kumar\",\"amirkhan\"], write a program to remove duplicates?"
   ]
  },
  {
   "cell_type": "code",
   "execution_count": 113,
   "id": "179d1c8c",
   "metadata": {},
   "outputs": [],
   "source": [
    "bollywood_heros={\"sharukkhan\",\"Karthi\" ,\"salmankhan\",\"Param\", \"salmankhan\",\"Karthi\",\"amirkhan\",\"HrithikRoshan\",\"Amitabh Bachchan\",\"Param\",\"Akshay Kumar\",\"amirkhan\"}"
   ]
  },
  {
   "cell_type": "code",
   "execution_count": 114,
   "id": "d456ae19",
   "metadata": {},
   "outputs": [
    {
     "name": "stdout",
     "output_type": "stream",
     "text": [
      "{'Param', 'HrithikRoshan', 'amirkhan', 'Akshay Kumar', 'salmankhan', 'Karthi', 'Amitabh Bachchan', 'sharukkhan'}\n"
     ]
    }
   ],
   "source": [
    "print(bollywood_heros)"
   ]
  },
  {
   "cell_type": "code",
   "execution_count": 115,
   "id": "81a4afc3",
   "metadata": {},
   "outputs": [],
   "source": [
    "#14. breakfast_items=[\"upma\",\"dosa\",\"idly\",\"puri\",\"punugulu\",\"roti\",\"chapathi\", \"parota\",\"mysoor baji\",\"minapa baji\"], print your favorite breakfast itme?\n",
    "#example: My Favorite breakfast time is mysoor baji"
   ]
  },
  {
   "cell_type": "code",
   "execution_count": 116,
   "id": "b3e6abbc",
   "metadata": {},
   "outputs": [],
   "source": [
    " breakfast_items=[\"upma\",\"dosa\",\"idly\",\"puri\",\"punugulu\",\"roti\",\"chapathi\", \"parota\",\"mysoor baji\",\"minapa baji\"]"
   ]
  },
  {
   "cell_type": "code",
   "execution_count": 117,
   "id": "7ef16acb",
   "metadata": {},
   "outputs": [
    {
     "name": "stdout",
     "output_type": "stream",
     "text": [
      "My Favorite breakfast time is minapa baji\n"
     ]
    }
   ],
   "source": [
    "print(\"My Favorite breakfast time is\", breakfast_items[9])"
   ]
  },
  {
   "cell_type": "code",
   "execution_count": null,
   "id": "63d1efc1",
   "metadata": {},
   "outputs": [],
   "source": [
    "#----------------------------->Dict"
   ]
  },
  {
   "cell_type": "code",
   "execution_count": 118,
   "id": "2686c38d",
   "metadata": {},
   "outputs": [],
   "source": [
    "#3. Create a dict with your family members(at least 10 names)?\n",
    "#expected output : { \"family_members\" : your family member details}"
   ]
  },
  {
   "cell_type": "code",
   "execution_count": 119,
   "id": "33f6db1b",
   "metadata": {},
   "outputs": [],
   "source": [
    "dict={\"family_members\":[\"venkataraju\",\"dhanalakshmq1i\",\"gopalakrishna\",\"dasaradharamayya\",\"nagedramma\",\"bhogiraju\",\"nagajyothi\",\"lakshmana\",\"umadevi\",\"poojitha\"]}"
   ]
  },
  {
   "cell_type": "code",
   "execution_count": 120,
   "id": "8c4f0889",
   "metadata": {},
   "outputs": [
    {
     "name": "stdout",
     "output_type": "stream",
     "text": [
      "{'family_members': ['venkataraju', 'dhanalakshmi', 'gopalakrishna', 'dasaradharamayya', 'nagedramma', 'bhogiraju', 'nagajyothi', 'lakshmana', 'umadevi', 'poojitha']}\n"
     ]
    }
   ],
   "source": [
    "print(dict)"
   ]
  },
  {
   "cell_type": "code",
   "execution_count": 121,
   "id": "d4a7ef52",
   "metadata": {},
   "outputs": [],
   "source": [
    "#write a program to print your father name?"
   ]
  },
  {
   "cell_type": "code",
   "execution_count": 122,
   "id": "1385e4ca",
   "metadata": {},
   "outputs": [
    {
     "name": "stdout",
     "output_type": "stream",
     "text": [
      "my father name is venkataraju\n"
     ]
    }
   ],
   "source": [
    "print(\"my father name is\",dict[\"family_members\"][0])"
   ]
  },
  {
   "cell_type": "code",
   "execution_count": 123,
   "id": "1de3d0ac",
   "metadata": {},
   "outputs": [],
   "source": [
    "#write a program to print your favorite family member name?"
   ]
  },
  {
   "cell_type": "code",
   "execution_count": 124,
   "id": "9b060e34",
   "metadata": {},
   "outputs": [
    {
     "name": "stdout",
     "output_type": "stream",
     "text": [
      " my favorite family member name is gopalakrishna\n"
     ]
    }
   ],
   "source": [
    "print(\" my favorite family member name is\",dict[\"family_members\"][2])"
   ]
  },
  {
   "cell_type": "code",
   "execution_count": 125,
   "id": "e9731a2b",
   "metadata": {},
   "outputs": [],
   "source": [
    "#5: Create a your friend names and their quality(at least 10 names)?\n",
    "#Expected output: {\"friend_names\" : your friend names, \"quality\" : your friend quality}\n",
    "#Example output: {\"friend_names\": [\"ravi\",\"shekar\", \"abbas\",\"jhonny\"], \"quality\" : [\"talk active\", \"anger\", \"intelligent\", \"funny\"]}\n",
    "#write a program to print your intelligent friend name?\n",
    "#write a program to print your best friend name?"
   ]
  },
  {
   "cell_type": "code",
   "execution_count": 126,
   "id": "85be7ad7",
   "metadata": {},
   "outputs": [],
   "source": [
    "dict={\"friend_names\":[\"anitha\",\"vanaja\",\"sivadevi\",\"prasanna\",\"vanitha\",\"anusha\",\"poojitha\",\"sruthi\",\"mamatha\",\"manasa\"],\"quality\":[\"clever\",\"funny\",\"active\",\"intelligent\",\"anger\",\"funny\",\"active\",\"talk\",\"anger\",\"funny\"]}"
   ]
  },
  {
   "cell_type": "code",
   "execution_count": 127,
   "id": "d95fa933",
   "metadata": {},
   "outputs": [
    {
     "name": "stdout",
     "output_type": "stream",
     "text": [
      "{'friend_names': ['anitha', 'vanaja', 'sivadevi', 'prasanna', 'vanitha', 'anusha', 'poojitha', 'sruthi', 'mamatha', 'manasa'], 'quality': ['clever', 'funny', 'active', 'intelligent', 'anger', 'funny', 'active', 'talk', 'anger', 'funny']}\n"
     ]
    }
   ],
   "source": [
    "print(dict)"
   ]
  },
  {
   "cell_type": "code",
   "execution_count": 128,
   "id": "b7f56e1d",
   "metadata": {},
   "outputs": [],
   "source": [
    "#write a program to print your intelligent friend name?"
   ]
  },
  {
   "cell_type": "code",
   "execution_count": 129,
   "id": "91facd7c",
   "metadata": {},
   "outputs": [
    {
     "name": "stdout",
     "output_type": "stream",
     "text": [
      "my intelligent friend name is prasanna\n"
     ]
    }
   ],
   "source": [
    "print(\"my intelligent friend name is\",dict[\"friend_names\"][3])"
   ]
  },
  {
   "cell_type": "code",
   "execution_count": 130,
   "id": "9523d8aa",
   "metadata": {},
   "outputs": [
    {
     "name": "stdout",
     "output_type": "stream",
     "text": [
      "my best friend name is anitha\n"
     ]
    }
   ],
   "source": [
    "print(\"my best friend name is\",dict[\"friend_names\"][0])"
   ]
  },
  {
   "cell_type": "code",
   "execution_count": 131,
   "id": "1a7a93ca",
   "metadata": {},
   "outputs": [],
   "source": [
    "#6: Create a your favorite food names and your rating(at least 10 names)?\n",
    "#Expected output: {\"veg_items\" : food names, \"rating\" : your rating}\n",
    "#{\"nonveg_items\" : food names, \"rating\" : your rating}\n",
    "#write a program to print your rating 1 food name?"
   ]
  },
  {
   "cell_type": "code",
   "execution_count": 132,
   "id": "5f262cad",
   "metadata": {},
   "outputs": [],
   "source": [
    "dict={\"veg_items\":[\"tomato\",\"brinjal\",\"potato\",\"angulargourds\",\"ladysfinger\",\"cucumber\",\"carrot\",\"snakegourds\",\"bottlegourds\",\"gherkins\"],\"rating\":[1,2,3,4,5,6,7,8,9,10]}"
   ]
  },
  {
   "cell_type": "code",
   "execution_count": 133,
   "id": "aa7d0959",
   "metadata": {},
   "outputs": [
    {
     "name": "stdout",
     "output_type": "stream",
     "text": [
      "{'veg_items': ['tomato', 'brinjal', 'potato', 'angulargourds', 'ladysfinger', 'cucumber', 'carrot', 'snakegourds', 'bottlegourds', 'gherkins'], 'rating': [1, 2, 3, 4, 5, 6, 7, 8, 9, 10]}\n"
     ]
    }
   ],
   "source": [
    "print(dict)"
   ]
  },
  {
   "cell_type": "code",
   "execution_count": 134,
   "id": "ae6bede8",
   "metadata": {},
   "outputs": [],
   "source": [
    "#6: Create a your favorite food names and your rating(at least 10 names)?\n",
    "#Expected output: {\"veg_items\" : food names, \"rating\" : your rating}"
   ]
  },
  {
   "cell_type": "code",
   "execution_count": 135,
   "id": "84e3370c",
   "metadata": {},
   "outputs": [
    {
     "name": "stdout",
     "output_type": "stream",
     "text": [
      "rating 1 food name is tomato\n"
     ]
    }
   ],
   "source": [
    "print(\"rating 1 food name is\",dict[\"veg_items\"][0])"
   ]
  },
  {
   "cell_type": "code",
   "execution_count": 136,
   "id": "83754f43",
   "metadata": {},
   "outputs": [],
   "source": [
    "#{\"nonveg_items\" : food names, \"rating\" : your rating}"
   ]
  },
  {
   "cell_type": "code",
   "execution_count": 137,
   "id": "1f86f716",
   "metadata": {},
   "outputs": [],
   "source": [
    "dict={\"nonveg_items\":[\"chicken\",\"mutton\",\"egg\",\"fish\",\"beef\",\"prawns\",\"crabs\",\"muttonbiryani\",\"chickenbiryani\",\"thandoori\"],\"rating\":[1,2,3,4,5,6,7,8,9,10]}"
   ]
  },
  {
   "cell_type": "code",
   "execution_count": 138,
   "id": "e59dcc62",
   "metadata": {},
   "outputs": [
    {
     "name": "stdout",
     "output_type": "stream",
     "text": [
      "{'nonveg_items': ['chicken', 'mutton', 'egg', 'fish', 'beef', 'prawns', 'crabs', 'muttonbiryani', 'chickenbiryani', 'thandoori'], 'rating': [1, 2, 3, 4, 5, 6, 7, 8, 9, 10]}\n"
     ]
    }
   ],
   "source": [
    "print(dict)"
   ]
  },
  {
   "cell_type": "code",
   "execution_count": 139,
   "id": "c31af655",
   "metadata": {},
   "outputs": [],
   "source": [
    "#8: Create a your favorite destination(cities) names and your rating(at least 10 names)?\n",
    "#Expected output: {\"destination\" : cities name, \"rating\" : your rating}\n",
    "#write a program to print your rating 3 city name?"
   ]
  },
  {
   "cell_type": "code",
   "execution_count": 140,
   "id": "4441c3d6",
   "metadata": {},
   "outputs": [],
   "source": [
    "dict={\"destination\":[\"machilipatnam\",\"vijayawada\",\"hyderabad\",\"guntur\",\"channai\",\"bangalore\",\"goa\",\"ooty\",\"vizag\",\"westgodavari\"],\"rating\":[1,2,3,4,5,6,7,8,9,10]}"
   ]
  },
  {
   "cell_type": "code",
   "execution_count": 141,
   "id": "51c6be5e",
   "metadata": {},
   "outputs": [],
   "source": [
    "#write a program to print your rating 3 city name?"
   ]
  },
  {
   "cell_type": "code",
   "execution_count": 142,
   "id": "56e1eccb",
   "metadata": {},
   "outputs": [
    {
     "name": "stdout",
     "output_type": "stream",
     "text": [
      "rating 3 city name guntur\n"
     ]
    }
   ],
   "source": [
    "print(\"rating 3 city name\",dict[\"destination\"][3])"
   ]
  },
  {
   "cell_type": "code",
   "execution_count": null,
   "id": "04356024",
   "metadata": {},
   "outputs": [],
   "source": []
  },
  {
   "cell_type": "code",
   "execution_count": null,
   "id": "8cad43b5",
   "metadata": {},
   "outputs": [],
   "source": []
  }
 ],
 "metadata": {
  "kernelspec": {
   "display_name": "Python 3 (ipykernel)",
   "language": "python",
   "name": "python3"
  },
  "language_info": {
   "codemirror_mode": {
    "name": "ipython",
    "version": 3
   },
   "file_extension": ".py",
   "mimetype": "text/x-python",
   "name": "python",
   "nbconvert_exporter": "python",
   "pygments_lexer": "ipython3",
   "version": "3.10.9"
  }
 },
 "nbformat": 4,
 "nbformat_minor": 5
}
